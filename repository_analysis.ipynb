{
 "cells": [
  {
   "cell_type": "code",
   "execution_count": 42,
   "id": "9045151e-c64d-48d8-ac7f-6aeb60f67749",
   "metadata": {},
   "outputs": [],
   "source": [
    "import pandas as pd\n",
    "import matplotlib.pyplot as plt\n",
    "import seaborn as sns"
   ]
  },
  {
   "cell_type": "code",
   "execution_count": 43,
   "id": "43b0cb19-638c-4370-9661-53599edbb683",
   "metadata": {
    "scrolled": true
   },
   "outputs": [
    {
     "data": {
      "text/html": [
       "<div>\n",
       "<style scoped>\n",
       "    .dataframe tbody tr th:only-of-type {\n",
       "        vertical-align: middle;\n",
       "    }\n",
       "\n",
       "    .dataframe tbody tr th {\n",
       "        vertical-align: top;\n",
       "    }\n",
       "\n",
       "    .dataframe thead th {\n",
       "        text-align: right;\n",
       "    }\n",
       "</style>\n",
       "<table border=\"1\" class=\"dataframe\">\n",
       "  <thead>\n",
       "    <tr style=\"text-align: right;\">\n",
       "      <th></th>\n",
       "      <th>Movie_Name</th>\n",
       "      <th>Release_Period</th>\n",
       "      <th>Whether_Remake</th>\n",
       "      <th>Whether_Franchise</th>\n",
       "      <th>Genre</th>\n",
       "      <th>New_Actor</th>\n",
       "      <th>New_Director</th>\n",
       "      <th>New_Music_Director</th>\n",
       "      <th>Lead_Star</th>\n",
       "      <th>Director</th>\n",
       "      <th>Music_Director</th>\n",
       "      <th>Number_of_Screens</th>\n",
       "      <th>Revenue(INR)</th>\n",
       "      <th>Budget(INR)</th>\n",
       "    </tr>\n",
       "  </thead>\n",
       "  <tbody>\n",
       "    <tr>\n",
       "      <th>0</th>\n",
       "      <td>Golden Boys</td>\n",
       "      <td>Normal</td>\n",
       "      <td>No</td>\n",
       "      <td>No</td>\n",
       "      <td>suspense</td>\n",
       "      <td>Yes</td>\n",
       "      <td>No</td>\n",
       "      <td>No</td>\n",
       "      <td>Jeet Goswami</td>\n",
       "      <td>Ravi Varma</td>\n",
       "      <td>Baba Jagirdar</td>\n",
       "      <td>5</td>\n",
       "      <td>5000000</td>\n",
       "      <td>85000</td>\n",
       "    </tr>\n",
       "    <tr>\n",
       "      <th>1</th>\n",
       "      <td>Kaccha Limboo</td>\n",
       "      <td>Holiday</td>\n",
       "      <td>No</td>\n",
       "      <td>No</td>\n",
       "      <td>drama</td>\n",
       "      <td>Yes</td>\n",
       "      <td>No</td>\n",
       "      <td>Yes</td>\n",
       "      <td>Karan Bhanushali</td>\n",
       "      <td>Sagar Ballary</td>\n",
       "      <td>Amardeep Nijjer</td>\n",
       "      <td>75</td>\n",
       "      <td>15000000</td>\n",
       "      <td>825000</td>\n",
       "    </tr>\n",
       "    <tr>\n",
       "      <th>2</th>\n",
       "      <td>Not A Love Story</td>\n",
       "      <td>Holiday</td>\n",
       "      <td>No</td>\n",
       "      <td>No</td>\n",
       "      <td>thriller</td>\n",
       "      <td>No</td>\n",
       "      <td>No</td>\n",
       "      <td>No</td>\n",
       "      <td>Mahie Gill</td>\n",
       "      <td>Ram Gopal Verma</td>\n",
       "      <td>Sandeep Chowta</td>\n",
       "      <td>525</td>\n",
       "      <td>75000000</td>\n",
       "      <td>56700000</td>\n",
       "    </tr>\n",
       "    <tr>\n",
       "      <th>3</th>\n",
       "      <td>Qaidi Band</td>\n",
       "      <td>Holiday</td>\n",
       "      <td>No</td>\n",
       "      <td>No</td>\n",
       "      <td>drama</td>\n",
       "      <td>Yes</td>\n",
       "      <td>No</td>\n",
       "      <td>No</td>\n",
       "      <td>Aadar Jain</td>\n",
       "      <td>Habib Faisal</td>\n",
       "      <td>Amit Trivedi</td>\n",
       "      <td>800</td>\n",
       "      <td>210000000</td>\n",
       "      <td>4500000</td>\n",
       "    </tr>\n",
       "    <tr>\n",
       "      <th>4</th>\n",
       "      <td>Chaatwali</td>\n",
       "      <td>Holiday</td>\n",
       "      <td>No</td>\n",
       "      <td>No</td>\n",
       "      <td>adult</td>\n",
       "      <td>Yes</td>\n",
       "      <td>Yes</td>\n",
       "      <td>Yes</td>\n",
       "      <td>Aadil Khan</td>\n",
       "      <td>Aadil Khan</td>\n",
       "      <td>Babloo Ustad</td>\n",
       "      <td>1</td>\n",
       "      <td>1000000</td>\n",
       "      <td>1075000</td>\n",
       "    </tr>\n",
       "  </tbody>\n",
       "</table>\n",
       "</div>"
      ],
      "text/plain": [
       "         Movie_Name Release_Period Whether_Remake Whether_Franchise     Genre  \\\n",
       "0       Golden Boys         Normal             No                No  suspense   \n",
       "1     Kaccha Limboo        Holiday             No                No     drama   \n",
       "2  Not A Love Story        Holiday             No                No  thriller   \n",
       "3        Qaidi Band        Holiday             No                No     drama   \n",
       "4         Chaatwali        Holiday             No                No     adult   \n",
       "\n",
       "  New_Actor New_Director New_Music_Director         Lead_Star  \\\n",
       "0       Yes           No                 No      Jeet Goswami   \n",
       "1       Yes           No                Yes  Karan Bhanushali   \n",
       "2        No           No                 No        Mahie Gill   \n",
       "3       Yes           No                 No        Aadar Jain   \n",
       "4       Yes          Yes                Yes        Aadil Khan   \n",
       "\n",
       "          Director   Music_Director  Number_of_Screens  Revenue(INR)  \\\n",
       "0       Ravi Varma    Baba Jagirdar                  5       5000000   \n",
       "1    Sagar Ballary  Amardeep Nijjer                 75      15000000   \n",
       "2  Ram Gopal Verma   Sandeep Chowta                525      75000000   \n",
       "3     Habib Faisal     Amit Trivedi                800     210000000   \n",
       "4       Aadil Khan     Babloo Ustad                  1       1000000   \n",
       "\n",
       "   Budget(INR)  \n",
       "0        85000  \n",
       "1       825000  \n",
       "2     56700000  \n",
       "3      4500000  \n",
       "4      1075000  "
      ]
     },
     "execution_count": 43,
     "metadata": {},
     "output_type": "execute_result"
    }
   ],
   "source": [
    "file_path = \"Data for repository.csv\"\n",
    "df = pd.read_csv(file_path)\n",
    "df.head()"
   ]
  },
  {
   "cell_type": "code",
   "execution_count": 44,
   "id": "ad745294-a92f-4346-9693-1ef94de3fa8d",
   "metadata": {},
   "outputs": [
    {
     "name": "stdout",
     "output_type": "stream",
     "text": [
      "<class 'pandas.core.frame.DataFrame'>\n",
      "RangeIndex: 1698 entries, 0 to 1697\n",
      "Data columns (total 14 columns):\n",
      " #   Column              Non-Null Count  Dtype \n",
      "---  ------              --------------  ----- \n",
      " 0   Movie_Name          1698 non-null   object\n",
      " 1   Release_Period      1698 non-null   object\n",
      " 2   Whether_Remake      1698 non-null   object\n",
      " 3   Whether_Franchise   1698 non-null   object\n",
      " 4   Genre               1698 non-null   object\n",
      " 5   New_Actor           1698 non-null   object\n",
      " 6   New_Director        1698 non-null   object\n",
      " 7   New_Music_Director  1698 non-null   object\n",
      " 8   Lead_Star           1698 non-null   object\n",
      " 9   Director            1698 non-null   object\n",
      " 10  Music_Director      1698 non-null   object\n",
      " 11  Number_of_Screens   1698 non-null   int64 \n",
      " 12  Revenue(INR)        1698 non-null   int64 \n",
      " 13  Budget(INR)         1698 non-null   int64 \n",
      "dtypes: int64(3), object(11)\n",
      "memory usage: 185.8+ KB\n"
     ]
    }
   ],
   "source": [
    "df.info()"
   ]
  },
  {
   "cell_type": "code",
   "execution_count": 45,
   "id": "a16a9b3a-8e18-49e9-b924-7efaa11bb7f7",
   "metadata": {
    "scrolled": true
   },
   "outputs": [
    {
     "data": {
      "text/html": [
       "<div>\n",
       "<style scoped>\n",
       "    .dataframe tbody tr th:only-of-type {\n",
       "        vertical-align: middle;\n",
       "    }\n",
       "\n",
       "    .dataframe tbody tr th {\n",
       "        vertical-align: top;\n",
       "    }\n",
       "\n",
       "    .dataframe thead th {\n",
       "        text-align: right;\n",
       "    }\n",
       "</style>\n",
       "<table border=\"1\" class=\"dataframe\">\n",
       "  <thead>\n",
       "    <tr style=\"text-align: right;\">\n",
       "      <th></th>\n",
       "      <th>Number_of_Screens</th>\n",
       "      <th>Revenue(INR)</th>\n",
       "      <th>Budget(INR)</th>\n",
       "    </tr>\n",
       "  </thead>\n",
       "  <tbody>\n",
       "    <tr>\n",
       "      <th>count</th>\n",
       "      <td>1698.000000</td>\n",
       "      <td>1.698000e+03</td>\n",
       "      <td>1.698000e+03</td>\n",
       "    </tr>\n",
       "    <tr>\n",
       "      <th>mean</th>\n",
       "      <td>553.831567</td>\n",
       "      <td>1.501674e+08</td>\n",
       "      <td>2.377287e+08</td>\n",
       "    </tr>\n",
       "    <tr>\n",
       "      <th>std</th>\n",
       "      <td>782.951839</td>\n",
       "      <td>2.434838e+08</td>\n",
       "      <td>6.134398e+08</td>\n",
       "    </tr>\n",
       "    <tr>\n",
       "      <th>min</th>\n",
       "      <td>1.000000</td>\n",
       "      <td>3.250000e+05</td>\n",
       "      <td>7.250000e+03</td>\n",
       "    </tr>\n",
       "    <tr>\n",
       "      <th>25%</th>\n",
       "      <td>30.000000</td>\n",
       "      <td>1.500000e+07</td>\n",
       "      <td>1.150000e+06</td>\n",
       "    </tr>\n",
       "    <tr>\n",
       "      <th>50%</th>\n",
       "      <td>200.000000</td>\n",
       "      <td>5.500000e+07</td>\n",
       "      <td>1.240000e+07</td>\n",
       "    </tr>\n",
       "    <tr>\n",
       "      <th>75%</th>\n",
       "      <td>800.000000</td>\n",
       "      <td>1.900000e+08</td>\n",
       "      <td>1.778325e+08</td>\n",
       "    </tr>\n",
       "    <tr>\n",
       "      <th>max</th>\n",
       "      <td>4600.000000</td>\n",
       "      <td>2.100000e+09</td>\n",
       "      <td>8.016120e+09</td>\n",
       "    </tr>\n",
       "  </tbody>\n",
       "</table>\n",
       "</div>"
      ],
      "text/plain": [
       "       Number_of_Screens  Revenue(INR)   Budget(INR)\n",
       "count        1698.000000  1.698000e+03  1.698000e+03\n",
       "mean          553.831567  1.501674e+08  2.377287e+08\n",
       "std           782.951839  2.434838e+08  6.134398e+08\n",
       "min             1.000000  3.250000e+05  7.250000e+03\n",
       "25%            30.000000  1.500000e+07  1.150000e+06\n",
       "50%           200.000000  5.500000e+07  1.240000e+07\n",
       "75%           800.000000  1.900000e+08  1.778325e+08\n",
       "max          4600.000000  2.100000e+09  8.016120e+09"
      ]
     },
     "execution_count": 45,
     "metadata": {},
     "output_type": "execute_result"
    }
   ],
   "source": [
    "df.describe()"
   ]
  },
  {
   "cell_type": "code",
   "execution_count": 46,
   "id": "2cd856fd-1c9b-481a-b71a-4dabd6408f8f",
   "metadata": {
    "scrolled": true
   },
   "outputs": [
    {
     "data": {
      "text/plain": [
       "Movie_Name            0\n",
       "Release_Period        0\n",
       "Whether_Remake        0\n",
       "Whether_Franchise     0\n",
       "Genre                 0\n",
       "New_Actor             0\n",
       "New_Director          0\n",
       "New_Music_Director    0\n",
       "Lead_Star             0\n",
       "Director              0\n",
       "Music_Director        0\n",
       "Number_of_Screens     0\n",
       "Revenue(INR)          0\n",
       "Budget(INR)           0\n",
       "Profit                0\n",
       "dtype: int64"
      ]
     },
     "execution_count": 46,
     "metadata": {},
     "output_type": "execute_result"
    }
   ],
   "source": [
    "data.isnull().sum()"
   ]
  },
  {
   "cell_type": "code",
   "execution_count": 48,
   "id": "8f500687-e201-4352-86ab-b5bb9e603568",
   "metadata": {},
   "outputs": [
    {
     "data": {
      "text/plain": [
       "Genre\n",
       "drama           639\n",
       "comedy          284\n",
       "thriller        212\n",
       "love_story      133\n",
       "action          127\n",
       "rom__com         95\n",
       "adult            78\n",
       "horror           53\n",
       "suspense         30\n",
       "masala           16\n",
       "mythological     14\n",
       "fantasy          13\n",
       "animation         3\n",
       "documentary       1\n",
       "Name: count, dtype: int64"
      ]
     },
     "execution_count": 48,
     "metadata": {},
     "output_type": "execute_result"
    }
   ],
   "source": [
    "# Count of Movies by Genre\n",
    "genre_counts = df['Genre'].value_counts()\n",
    "genre_counts"
   ]
  },
  {
   "cell_type": "code",
   "execution_count": 53,
   "id": "c27f9345-ad8f-45cc-8e25-97ea3a56291f",
   "metadata": {},
   "outputs": [],
   "source": [
    "# Revenue vs. Budget Analysis\n",
    "df['Profit'] = df['Revenue(INR)'] - df['Budget(INR)']\n",
    "profit_summary = df.groupby('Genre')['Profit'].mean().sort_values()"
   ]
  },
  {
   "cell_type": "code",
   "execution_count": 54,
   "id": "65805e85-f143-434f-aa83-6502e0a56e61",
   "metadata": {
    "scrolled": true
   },
   "outputs": [
    {
     "data": {
      "text/plain": [
       "Release_Period\n",
       "Normal     1064\n",
       "Holiday     634\n",
       "Name: count, dtype: int64"
      ]
     },
     "execution_count": 54,
     "metadata": {},
     "output_type": "execute_result"
    }
   ],
   "source": [
    "# Trends Based on Release Period\n",
    "release_period_counts = df['Release_Period'].value_counts()\n",
    "release_period_counts"
   ]
  },
  {
   "cell_type": "code",
   "execution_count": 56,
   "id": "50618e0b-e25a-44c9-96a9-24a6a17f030f",
   "metadata": {},
   "outputs": [
    {
     "data": {
      "text/plain": [
       "Whether_Franchise\n",
       "No     1616\n",
       "Yes      82\n",
       "Name: count, dtype: int64"
      ]
     },
     "execution_count": 56,
     "metadata": {},
     "output_type": "execute_result"
    }
   ],
   "source": [
    "\n",
    "#  Analysis of Remakes and Franchises\n",
    "remake_counts = df['Whether_Remake'].value_counts()\n",
    "franchise_counts = df['Whether_Franchise'].value_counts()\n",
    "franchise_counts"
   ]
  },
  {
   "cell_type": "code",
   "execution_count": 57,
   "id": "653c6012-8491-4bee-b027-b95f201b7d5c",
   "metadata": {},
   "outputs": [],
   "source": [
    "# Correlation Between New Talent and Revenue\n",
    "new_actor_revenue = df.groupby('New_Actor')['Revenue(INR)'].mean()\n",
    "new_director_revenue =df.groupby('New_Director')['Revenue(INR)'].mean()\n",
    "new_music_director_revenue = df.groupby('New_Music_Director')['Revenue(INR)'].mean()"
   ]
  },
  {
   "cell_type": "code",
   "execution_count": 58,
   "id": "bd88d09f-ae40-4fa8-bafb-35ebc0647f7e",
   "metadata": {},
   "outputs": [
    {
     "name": "stdout",
     "output_type": "stream",
     "text": [
      "\n",
      "Average Revenue by New Talent:\n",
      "New Actor: New_Actor\n",
      "No     1.869524e+08\n",
      "Yes    4.967560e+07\n",
      "Name: Revenue(INR), dtype: float64\n",
      "New Director: New_Director\n",
      "No     2.192259e+08\n",
      "Yes    7.552331e+07\n",
      "Name: Revenue(INR), dtype: float64\n",
      "New Music Director: New_Music_Director\n",
      "No     1.898439e+08\n",
      "Yes    6.823615e+07\n",
      "Name: Revenue(INR), dtype: float64\n"
     ]
    }
   ],
   "source": [
    "print(\"\\nAverage Revenue by New Talent:\")\n",
    "print(\"New Actor:\", new_actor_revenue)\n",
    "print(\"New Director:\", new_director_revenue)\n",
    "print(\"New Music Director:\", new_music_director_revenue)"
   ]
  },
  {
   "cell_type": "code",
   "execution_count": null,
   "id": "4deeabb4-1d83-4d84-a330-a49f138370ba",
   "metadata": {
    "scrolled": true
   },
   "outputs": [],
   "source": [
    "# Genre Distribution\n",
    "plt.figure(figsize=(10, 6))\n",
    "sns.countplot(data=df, x='Genre', order=genre_counts.index)\n",
    "plt.title(\"Movie Count by Genre\")\n",
    "plt.xticks(rotation=90)\n",
    "plt.show()"
   ]
  },
  {
   "cell_type": "code",
   "execution_count": null,
   "id": "bffca4d6-020a-4356-8918-572f781605ab",
   "metadata": {},
   "outputs": [],
   "source": [
    "# Revenue vs. Budget Scatter Plot\n",
    "plt.figure(figsize=(10, 6))\n",
    "sns.scatterplot(data=df, x='Budget(INR)', y='Revenue(INR)', hue='Genre')\n",
    "plt.title(\"Revenue vs. Budget\")\n",
    "plt.xscale('log')\n",
    "plt.yscale('log')\n",
    "plt.show()"
   ]
  },
  {
   "cell_type": "code",
   "execution_count": null,
   "id": "2ba4c540-ed50-4ecd-a8dc-ba06bcde06ee",
   "metadata": {
    "scrolled": true
   },
   "outputs": [],
   "source": [
    "#  Profit by Genre\n",
    "plt.figure(figsize=(10, 6))\n",
    "profit_summary.plot(kind='bar', color='skyblue')\n",
    "plt.title(\"Average Profit by Genre\")\n",
    "plt.ylabel(\"Profit (INR)\")\n",
    "plt.show()"
   ]
  },
  {
   "cell_type": "code",
   "execution_count": null,
   "id": "c281393a-ec91-40e3-980b-71ac1b758e92",
   "metadata": {},
   "outputs": [],
   "source": [
    "#  Release Period Distribution\n",
    "plt.figure(figsize=(6, 4))\n",
    "release_period_counts.plot(kind='bar', color='lightgreen')\n",
    "plt.title(\"Movie Count by Release Period\")\n",
    "plt.show()"
   ]
  },
  {
   "cell_type": "code",
   "execution_count": null,
   "id": "52b1d50f-9be4-46ea-8e73-5235891f08ea",
   "metadata": {
    "jupyter": {
     "source_hidden": true
    }
   },
   "outputs": [],
   "source": [
    "#  Impact of New Talent on Revenue\n",
    "plt.figure(figsize=(10, 6))\n",
    "new_actor_revenue.plot(kind='bar', color='orange', label='New Actor')\n",
    "new_director_revenue.plot(kind='bar', color='blue', label='New Director')\n",
    "new_music_director_revenue.plot(kind='bar', color='green', label='New Music Director')\n",
    "plt.title(\"Impact of New Talent on Revenue\")\n",
    "plt.ylabel(\"Average Revenue (INR)\")\n",
    "plt.legend()\n",
    "plt.show()"
   ]
  },
  {
   "cell_type": "markdown",
   "id": "29c99c93-2a1a-45c9-a79e-10d93e10fc33",
   "metadata": {},
   "source": [
    "# Insights from the Analysis\n",
    "1. **Genre Popularity**: Which genres are most common in the dataset.\n",
    "2. **Profitability** : Which genres generate the highest profits.\n",
    "3. **Release Period Trends** : Whether holiday releases perform better than normal releases.\n",
    "4. **Remakes and Franchises** : Their prevalence and potential impact on revenue.\n",
    "5. **New Talent** : Whether new actors, directors, or music directors correlate with higher revenues."
   ]
  },
  {
   "cell_type": "code",
   "execution_count": null,
   "id": "3915bb78-29b7-4f7e-9b9f-1ed4de7a1776",
   "metadata": {},
   "outputs": [],
   "source": []
  },
  {
   "cell_type": "code",
   "execution_count": null,
   "id": "a0cbe284-22a7-48e7-8956-981f22ae8a72",
   "metadata": {},
   "outputs": [],
   "source": []
  }
 ],
 "metadata": {
  "kernelspec": {
   "display_name": "Python 3 (ipykernel)",
   "language": "python",
   "name": "python3"
  },
  "language_info": {
   "codemirror_mode": {
    "name": "ipython",
    "version": 3
   },
   "file_extension": ".py",
   "mimetype": "text/x-python",
   "name": "python",
   "nbconvert_exporter": "python",
   "pygments_lexer": "ipython3",
   "version": "3.12.7"
  }
 },
 "nbformat": 4,
 "nbformat_minor": 5
}
